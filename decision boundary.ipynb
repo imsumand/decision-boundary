{
 "cells": [
  {
   "cell_type": "code",
   "execution_count": 185,
   "metadata": {},
   "outputs": [],
   "source": [
    "import numpy as np\n",
    "import pandas as pd\n",
    "import matplotlib.pyplot as plt"
   ]
  },
  {
   "cell_type": "code",
   "execution_count": 186,
   "metadata": {},
   "outputs": [],
   "source": [
    "flower=pd.read_csv('Iris.csv')"
   ]
  },
  {
   "cell_type": "code",
   "execution_count": 187,
   "metadata": {},
   "outputs": [
    {
     "data": {
      "text/html": [
       "<div>\n",
       "<style scoped>\n",
       "    .dataframe tbody tr th:only-of-type {\n",
       "        vertical-align: middle;\n",
       "    }\n",
       "\n",
       "    .dataframe tbody tr th {\n",
       "        vertical-align: top;\n",
       "    }\n",
       "\n",
       "    .dataframe thead th {\n",
       "        text-align: right;\n",
       "    }\n",
       "</style>\n",
       "<table border=\"1\" class=\"dataframe\">\n",
       "  <thead>\n",
       "    <tr style=\"text-align: right;\">\n",
       "      <th></th>\n",
       "      <th>Id</th>\n",
       "      <th>SepalLengthCm</th>\n",
       "      <th>SepalWidthCm</th>\n",
       "      <th>PetalLengthCm</th>\n",
       "      <th>PetalWidthCm</th>\n",
       "      <th>Species</th>\n",
       "    </tr>\n",
       "  </thead>\n",
       "  <tbody>\n",
       "    <tr>\n",
       "      <td>2</td>\n",
       "      <td>3</td>\n",
       "      <td>4.7</td>\n",
       "      <td>3.2</td>\n",
       "      <td>1.3</td>\n",
       "      <td>0.2</td>\n",
       "      <td>Iris-setosa</td>\n",
       "    </tr>\n",
       "    <tr>\n",
       "      <td>109</td>\n",
       "      <td>110</td>\n",
       "      <td>7.2</td>\n",
       "      <td>3.6</td>\n",
       "      <td>6.1</td>\n",
       "      <td>2.5</td>\n",
       "      <td>Iris-virginica</td>\n",
       "    </tr>\n",
       "    <tr>\n",
       "      <td>148</td>\n",
       "      <td>149</td>\n",
       "      <td>6.2</td>\n",
       "      <td>3.4</td>\n",
       "      <td>5.4</td>\n",
       "      <td>2.3</td>\n",
       "      <td>Iris-virginica</td>\n",
       "    </tr>\n",
       "    <tr>\n",
       "      <td>94</td>\n",
       "      <td>95</td>\n",
       "      <td>5.6</td>\n",
       "      <td>2.7</td>\n",
       "      <td>4.2</td>\n",
       "      <td>1.3</td>\n",
       "      <td>Iris-versicolor</td>\n",
       "    </tr>\n",
       "    <tr>\n",
       "      <td>143</td>\n",
       "      <td>144</td>\n",
       "      <td>6.8</td>\n",
       "      <td>3.2</td>\n",
       "      <td>5.9</td>\n",
       "      <td>2.3</td>\n",
       "      <td>Iris-virginica</td>\n",
       "    </tr>\n",
       "  </tbody>\n",
       "</table>\n",
       "</div>"
      ],
      "text/plain": [
       "      Id  SepalLengthCm  SepalWidthCm  PetalLengthCm  PetalWidthCm  \\\n",
       "2      3            4.7           3.2            1.3           0.2   \n",
       "109  110            7.2           3.6            6.1           2.5   \n",
       "148  149            6.2           3.4            5.4           2.3   \n",
       "94    95            5.6           2.7            4.2           1.3   \n",
       "143  144            6.8           3.2            5.9           2.3   \n",
       "\n",
       "             Species  \n",
       "2        Iris-setosa  \n",
       "109   Iris-virginica  \n",
       "148   Iris-virginica  \n",
       "94   Iris-versicolor  \n",
       "143   Iris-virginica  "
      ]
     },
     "execution_count": 187,
     "metadata": {},
     "output_type": "execute_result"
    }
   ],
   "source": [
    "flower.sample(5)"
   ]
  },
  {
   "cell_type": "code",
   "execution_count": 188,
   "metadata": {},
   "outputs": [],
   "source": [
    "flower.drop('SepalWidthCm',axis=1,inplace=True)"
   ]
  },
  {
   "cell_type": "code",
   "execution_count": 189,
   "metadata": {},
   "outputs": [],
   "source": [
    "flower.drop('PetalWidthCm',axis=1,inplace=True)"
   ]
  },
  {
   "cell_type": "code",
   "execution_count": 190,
   "metadata": {},
   "outputs": [],
   "source": [
    "flower.drop('Id',axis=1,inplace=True)"
   ]
  },
  {
   "cell_type": "code",
   "execution_count": 191,
   "metadata": {},
   "outputs": [],
   "source": [
    "flower['Species'] = flower['Species'].map({'Iris-setosa': 0, 'Iris-virginica': 1,'Iris-versicolor':2})"
   ]
  },
  {
   "cell_type": "code",
   "execution_count": 192,
   "metadata": {},
   "outputs": [],
   "source": [
    "flower['Species']=flower['Species'].astype(float)"
   ]
  },
  {
   "cell_type": "code",
   "execution_count": 193,
   "metadata": {},
   "outputs": [
    {
     "data": {
      "text/html": [
       "<div>\n",
       "<style scoped>\n",
       "    .dataframe tbody tr th:only-of-type {\n",
       "        vertical-align: middle;\n",
       "    }\n",
       "\n",
       "    .dataframe tbody tr th {\n",
       "        vertical-align: top;\n",
       "    }\n",
       "\n",
       "    .dataframe thead th {\n",
       "        text-align: right;\n",
       "    }\n",
       "</style>\n",
       "<table border=\"1\" class=\"dataframe\">\n",
       "  <thead>\n",
       "    <tr style=\"text-align: right;\">\n",
       "      <th></th>\n",
       "      <th>SepalLengthCm</th>\n",
       "      <th>PetalLengthCm</th>\n",
       "      <th>Species</th>\n",
       "    </tr>\n",
       "  </thead>\n",
       "  <tbody>\n",
       "    <tr>\n",
       "      <td>120</td>\n",
       "      <td>6.9</td>\n",
       "      <td>5.7</td>\n",
       "      <td>1.0</td>\n",
       "    </tr>\n",
       "    <tr>\n",
       "      <td>133</td>\n",
       "      <td>6.3</td>\n",
       "      <td>5.1</td>\n",
       "      <td>1.0</td>\n",
       "    </tr>\n",
       "    <tr>\n",
       "      <td>139</td>\n",
       "      <td>6.9</td>\n",
       "      <td>5.4</td>\n",
       "      <td>1.0</td>\n",
       "    </tr>\n",
       "    <tr>\n",
       "      <td>82</td>\n",
       "      <td>5.8</td>\n",
       "      <td>3.9</td>\n",
       "      <td>2.0</td>\n",
       "    </tr>\n",
       "    <tr>\n",
       "      <td>15</td>\n",
       "      <td>5.7</td>\n",
       "      <td>1.5</td>\n",
       "      <td>0.0</td>\n",
       "    </tr>\n",
       "  </tbody>\n",
       "</table>\n",
       "</div>"
      ],
      "text/plain": [
       "     SepalLengthCm  PetalLengthCm  Species\n",
       "120            6.9            5.7      1.0\n",
       "133            6.3            5.1      1.0\n",
       "139            6.9            5.4      1.0\n",
       "82             5.8            3.9      2.0\n",
       "15             5.7            1.5      0.0"
      ]
     },
     "execution_count": 193,
     "metadata": {},
     "output_type": "execute_result"
    }
   ],
   "source": [
    "flower.sample(5)"
   ]
  },
  {
   "cell_type": "code",
   "execution_count": 194,
   "metadata": {},
   "outputs": [
    {
     "data": {
      "text/plain": [
       "(150, 2)"
      ]
     },
     "execution_count": 194,
     "metadata": {},
     "output_type": "execute_result"
    }
   ],
   "source": [
    "X=flower.iloc[:,0:2].values\n",
    "X.shape"
   ]
  },
  {
   "cell_type": "code",
   "execution_count": 195,
   "metadata": {},
   "outputs": [
    {
     "data": {
      "text/plain": [
       "(150,)"
      ]
     },
     "execution_count": 195,
     "metadata": {},
     "output_type": "execute_result"
    }
   ],
   "source": [
    "y=flower.iloc[:,-1].values\n",
    "y.shape"
   ]
  },
  {
   "cell_type": "code",
   "execution_count": 196,
   "metadata": {},
   "outputs": [],
   "source": [
    "from sklearn.model_selection import train_test_split\n",
    "X_train,X_test,y_train,y_test=train_test_split(X,y,test_size=0.2)"
   ]
  },
  {
   "cell_type": "code",
   "execution_count": 197,
   "metadata": {},
   "outputs": [
    {
     "name": "stdout",
     "output_type": "stream",
     "text": [
      "(120, 2) (30, 2) (120,) (30,)\n"
     ]
    }
   ],
   "source": [
    "print(X_train.shape,X_test.shape,y_train.shape,y_test.shape)"
   ]
  },
  {
   "cell_type": "code",
   "execution_count": 198,
   "metadata": {},
   "outputs": [],
   "source": [
    "from sklearn.tree import DecisionTreeClassifier\n",
    "clf=DecisionTreeClassifier()"
   ]
  },
  {
   "cell_type": "code",
   "execution_count": 199,
   "metadata": {},
   "outputs": [
    {
     "data": {
      "text/plain": [
       "DecisionTreeClassifier(class_weight=None, criterion='gini', max_depth=None,\n",
       "                       max_features=None, max_leaf_nodes=None,\n",
       "                       min_impurity_decrease=0.0, min_impurity_split=None,\n",
       "                       min_samples_leaf=1, min_samples_split=2,\n",
       "                       min_weight_fraction_leaf=0.0, presort=False,\n",
       "                       random_state=None, splitter='best')"
      ]
     },
     "execution_count": 199,
     "metadata": {},
     "output_type": "execute_result"
    }
   ],
   "source": [
    "clf.fit(X_train,y_train)"
   ]
  },
  {
   "cell_type": "code",
   "execution_count": 200,
   "metadata": {},
   "outputs": [],
   "source": [
    "y_pred=clf.predict(X_test)"
   ]
  },
  {
   "cell_type": "code",
   "execution_count": 201,
   "metadata": {},
   "outputs": [
    {
     "data": {
      "text/plain": [
       "0.9333333333333333"
      ]
     },
     "execution_count": 201,
     "metadata": {},
     "output_type": "execute_result"
    }
   ],
   "source": [
    "from sklearn.metrics import accuracy_score\n",
    "accuracy_score(y_test,y_pred)"
   ]
  },
  {
   "cell_type": "code",
   "execution_count": 202,
   "metadata": {},
   "outputs": [
    {
     "data": {
      "text/plain": [
       "1.0"
      ]
     },
     "execution_count": 202,
     "metadata": {},
     "output_type": "execute_result"
    }
   ],
   "source": [
    "y_test[24]"
   ]
  },
  {
   "cell_type": "code",
   "execution_count": 203,
   "metadata": {},
   "outputs": [
    {
     "data": {
      "text/plain": [
       "1.0"
      ]
     },
     "execution_count": 203,
     "metadata": {},
     "output_type": "execute_result"
    }
   ],
   "source": [
    "y_pred[24]"
   ]
  },
  {
   "cell_type": "code",
   "execution_count": 204,
   "metadata": {},
   "outputs": [
    {
     "data": {
      "text/plain": [
       "array([[6. , 5.1],\n",
       "       [5.2, 3.9],\n",
       "       [7.9, 6.4],\n",
       "       [4.8, 1.6],\n",
       "       [7.2, 6. ],\n",
       "       [4.7, 1.6],\n",
       "       [7.7, 6.9],\n",
       "       [4.9, 1.5],\n",
       "       [4.5, 1.3],\n",
       "       [5.8, 5.1],\n",
       "       [5.6, 4.1],\n",
       "       [6.4, 4.5],\n",
       "       [6.1, 4.6],\n",
       "       [4.9, 1.4],\n",
       "       [6.1, 4.9],\n",
       "       [6.7, 4.7],\n",
       "       [5. , 3.3],\n",
       "       [6.3, 5.6],\n",
       "       [4.6, 1.4],\n",
       "       [6.8, 5.5],\n",
       "       [6.2, 5.4],\n",
       "       [6. , 4.5],\n",
       "       [5. , 1.6],\n",
       "       [6.2, 4.3],\n",
       "       [5.1, 1.5],\n",
       "       [4.8, 1.4],\n",
       "       [5.8, 4. ],\n",
       "       [5.1, 1.4],\n",
       "       [4.7, 1.3],\n",
       "       [6.9, 5.1],\n",
       "       [5. , 3.5],\n",
       "       [5. , 1.6],\n",
       "       [4.4, 1.3],\n",
       "       [6.8, 4.8],\n",
       "       [7.2, 5.8],\n",
       "       [6.7, 5. ],\n",
       "       [5.4, 4.5],\n",
       "       [6.2, 4.5],\n",
       "       [5.1, 1.4],\n",
       "       [5.7, 4.5],\n",
       "       [5.1, 1.5],\n",
       "       [5.7, 4.2],\n",
       "       [6.9, 4.9],\n",
       "       [5.8, 5.1],\n",
       "       [6.5, 5.1],\n",
       "       [6. , 4.8],\n",
       "       [6. , 4. ],\n",
       "       [4.8, 1.4],\n",
       "       [6.2, 4.8],\n",
       "       [4.8, 1.6],\n",
       "       [6.3, 5. ],\n",
       "       [5. , 1.4],\n",
       "       [5.9, 5.1],\n",
       "       [6.3, 4.9],\n",
       "       [5.7, 1.7],\n",
       "       [4.9, 1.5],\n",
       "       [5.6, 4.2],\n",
       "       [4.6, 1.5],\n",
       "       [6.7, 4.4],\n",
       "       [5.6, 4.5],\n",
       "       [7.1, 5.9],\n",
       "       [5.8, 3.9],\n",
       "       [5. , 1.5],\n",
       "       [7.7, 6.1],\n",
       "       [5.2, 1.4],\n",
       "       [5.3, 1.5],\n",
       "       [6.1, 4.7],\n",
       "       [4.9, 4.5],\n",
       "       [5.5, 3.8],\n",
       "       [6.3, 5.1],\n",
       "       [6.4, 5.3],\n",
       "       [4.8, 1.9],\n",
       "       [5.7, 1.5],\n",
       "       [6.9, 5.7],\n",
       "       [6.9, 5.4],\n",
       "       [5.5, 1.3],\n",
       "       [5. , 1.3],\n",
       "       [6.7, 5.8],\n",
       "       [5. , 1.6],\n",
       "       [6.7, 5.7],\n",
       "       [6. , 5. ],\n",
       "       [6.5, 5.2],\n",
       "       [6.5, 4.6],\n",
       "       [5.4, 1.5],\n",
       "       [5.9, 4.8],\n",
       "       [4.6, 1.4],\n",
       "       [5.2, 1.5],\n",
       "       [6.6, 4.4],\n",
       "       [6.3, 5.6],\n",
       "       [6.3, 4.7],\n",
       "       [5.5, 4. ],\n",
       "       [5.1, 3. ],\n",
       "       [6. , 4.5],\n",
       "       [5.5, 3.7],\n",
       "       [4.4, 1.3],\n",
       "       [5.4, 1.3],\n",
       "       [5.6, 3.9],\n",
       "       [5.6, 4.9],\n",
       "       [6.3, 4.9],\n",
       "       [5.6, 3.6],\n",
       "       [5.5, 4. ],\n",
       "       [7.7, 6.7],\n",
       "       [6.7, 5.6],\n",
       "       [5.5, 1.4],\n",
       "       [5.7, 3.5],\n",
       "       [6.3, 4.4],\n",
       "       [6.4, 5.5],\n",
       "       [7. , 4.7],\n",
       "       [5.1, 1.7],\n",
       "       [5.5, 4.4],\n",
       "       [7.6, 6.6],\n",
       "       [7.2, 6.1],\n",
       "       [5.4, 1.7],\n",
       "       [5.1, 1.5],\n",
       "       [6.7, 5.7],\n",
       "       [5.8, 4.1],\n",
       "       [4.9, 1.5],\n",
       "       [6.4, 5.6],\n",
       "       [4.3, 1.1],\n",
       "       [6.4, 5.6]])"
      ]
     },
     "execution_count": 204,
     "metadata": {},
     "output_type": "execute_result"
    }
   ],
   "source": [
    "X_train"
   ]
  },
  {
   "cell_type": "code",
   "execution_count": 205,
   "metadata": {},
   "outputs": [],
   "source": [
    "a=np.arange(start=X_train[:,0].min()-1,stop=X_train[:,0].max()+1,step=0.01)\n",
    "b=np.arange(start=X_train[:,1].min()-1,stop=X_train[:,1].max()+1,step=0.01)\n",
    "XX,YY=np.meshgrid(a,b)"
   ]
  },
  {
   "cell_type": "code",
   "execution_count": 206,
   "metadata": {},
   "outputs": [
    {
     "data": {
      "text/plain": [
       "(780, 560)"
      ]
     },
     "execution_count": 206,
     "metadata": {},
     "output_type": "execute_result"
    }
   ],
   "source": [
    "XX.shape"
   ]
  },
  {
   "cell_type": "code",
   "execution_count": 207,
   "metadata": {},
   "outputs": [],
   "source": [
    "inputt=np.array([XX.ravel(),YY.ravel()]).T\n",
    "labels=clf.predict(inputt)"
   ]
  },
  {
   "cell_type": "code",
   "execution_count": 215,
   "metadata": {},
   "outputs": [
    {
     "data": {
      "text/plain": [
       "<matplotlib.collections.PathCollection at 0x191ee0ed5c8>"
      ]
     },
     "execution_count": 215,
     "metadata": {},
     "output_type": "execute_result"
    },
    {
     "data": {
      "image/png": "[encoded data removed]",
      "text/plain": [
       "<Figure size 432x288 with 1 Axes>"
      ]
     },
     "metadata": {
      "needs_background": "light"
     },
     "output_type": "display_data"
    }
   ],
   "source": [
    "plt.contourf(XX,YY,labels.reshape(XX.shape),alpha=.7)\n",
    "plt.scatter(X_train[:,0],X_train[:,1],c=y_train)"
   ]
  }
 ],
 "metadata": {
  "kernelspec": {
   "display_name": "Python 3",
   "language": "python",
   "name": "python3"
  },
  "language_info": {
   "codemirror_mode": {
    "name": "ipython",
    "version": 3
   },
   "file_extension": ".py",
   "mimetype": "text/x-python",
   "name": "python",
   "nbconvert_exporter": "python",
   "pygments_lexer": "ipython3",
   "version": "3.7.4"
  }
 },
 "nbformat": 4,
 "nbformat_minor": 2
}
